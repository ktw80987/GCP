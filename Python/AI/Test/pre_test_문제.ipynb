{
  "cells": [
    {
      "cell_type": "markdown",
      "metadata": {
        "id": "MAK1VhgQ5moK"
      },
      "source": [
        "# [문제 1]\n",
        "### nfl_data.csv 파일에는 미국 내셔널 풋볼 리그의 선수 목록이 있습니다.\n",
        "\n"
      ]
    },
    {
      "cell_type": "code",
      "execution_count": 31,
      "metadata": {
        "id": "pEuwfIU26J_V"
      },
      "outputs": [],
      "source": [
        "import pandas as pd"
      ]
    },
    {
      "cell_type": "code",
      "execution_count": 32,
      "metadata": {
        "id": "TIDVCmUu5YM-"
      },
      "outputs": [],
      "source": [
        "# nfl_data.csv 파일을 읽어들이면서 Birthday 열의 값을 날짜/시간 데이터로 변환하세요\n",
        "# 변수 : nfl\n",
        "nfl = pd.read_csv('./nfl_data.csv', parse_dates=['Birthday'])"
      ]
    },
    {
      "cell_type": "code",
      "execution_count": 33,
      "metadata": {},
      "outputs": [
        {
          "data": {
            "text/html": [
              "<div>\n",
              "<style scoped>\n",
              "    .dataframe tbody tr th:only-of-type {\n",
              "        vertical-align: middle;\n",
              "    }\n",
              "\n",
              "    .dataframe tbody tr th {\n",
              "        vertical-align: top;\n",
              "    }\n",
              "\n",
              "    .dataframe thead th {\n",
              "        text-align: right;\n",
              "    }\n",
              "</style>\n",
              "<table border=\"1\" class=\"dataframe\">\n",
              "  <thead>\n",
              "    <tr style=\"text-align: right;\">\n",
              "      <th></th>\n",
              "      <th>Name</th>\n",
              "      <th>Team</th>\n",
              "      <th>Position</th>\n",
              "      <th>Birthday</th>\n",
              "      <th>Salary</th>\n",
              "    </tr>\n",
              "  </thead>\n",
              "  <tbody>\n",
              "    <tr>\n",
              "      <th>0</th>\n",
              "      <td>Tremon Smith</td>\n",
              "      <td>Philadelphia Eagles</td>\n",
              "      <td>RB</td>\n",
              "      <td>1996-07-20</td>\n",
              "      <td>570000</td>\n",
              "    </tr>\n",
              "    <tr>\n",
              "      <th>1</th>\n",
              "      <td>Shawn Williams</td>\n",
              "      <td>Cincinnati Bengals</td>\n",
              "      <td>SS</td>\n",
              "      <td>1991-05-13</td>\n",
              "      <td>3500000</td>\n",
              "    </tr>\n",
              "    <tr>\n",
              "      <th>2</th>\n",
              "      <td>Adam Butler</td>\n",
              "      <td>New England Patriots</td>\n",
              "      <td>DT</td>\n",
              "      <td>1994-04-12</td>\n",
              "      <td>645000</td>\n",
              "    </tr>\n",
              "    <tr>\n",
              "      <th>3</th>\n",
              "      <td>Derek Wolfe</td>\n",
              "      <td>Denver Broncos</td>\n",
              "      <td>DE</td>\n",
              "      <td>1990-02-24</td>\n",
              "      <td>8000000</td>\n",
              "    </tr>\n",
              "    <tr>\n",
              "      <th>4</th>\n",
              "      <td>Jake Ryan</td>\n",
              "      <td>Jacksonville Jaguars</td>\n",
              "      <td>OLB</td>\n",
              "      <td>1992-02-27</td>\n",
              "      <td>1000000</td>\n",
              "    </tr>\n",
              "    <tr>\n",
              "      <th>...</th>\n",
              "      <td>...</td>\n",
              "      <td>...</td>\n",
              "      <td>...</td>\n",
              "      <td>...</td>\n",
              "      <td>...</td>\n",
              "    </tr>\n",
              "    <tr>\n",
              "      <th>1650</th>\n",
              "      <td>Bashaud Breeland</td>\n",
              "      <td>Kansas City Chiefs</td>\n",
              "      <td>CB</td>\n",
              "      <td>1992-01-30</td>\n",
              "      <td>805000</td>\n",
              "    </tr>\n",
              "    <tr>\n",
              "      <th>1651</th>\n",
              "      <td>Craig James</td>\n",
              "      <td>Philadelphia Eagles</td>\n",
              "      <td>CB</td>\n",
              "      <td>1996-04-29</td>\n",
              "      <td>570000</td>\n",
              "    </tr>\n",
              "    <tr>\n",
              "      <th>1652</th>\n",
              "      <td>Jonotthan Harrison</td>\n",
              "      <td>New York Jets</td>\n",
              "      <td>C</td>\n",
              "      <td>1991-08-25</td>\n",
              "      <td>1500000</td>\n",
              "    </tr>\n",
              "    <tr>\n",
              "      <th>1653</th>\n",
              "      <td>Chuma Edoga</td>\n",
              "      <td>New York Jets</td>\n",
              "      <td>OT</td>\n",
              "      <td>1997-05-25</td>\n",
              "      <td>495000</td>\n",
              "    </tr>\n",
              "    <tr>\n",
              "      <th>1654</th>\n",
              "      <td>Tajae Sharpe</td>\n",
              "      <td>Tennessee Titans</td>\n",
              "      <td>WR</td>\n",
              "      <td>1994-12-23</td>\n",
              "      <td>2025000</td>\n",
              "    </tr>\n",
              "  </tbody>\n",
              "</table>\n",
              "<p>1655 rows × 5 columns</p>\n",
              "</div>"
            ],
            "text/plain": [
              "                    Name                  Team Position   Birthday   Salary\n",
              "0           Tremon Smith   Philadelphia Eagles       RB 1996-07-20   570000\n",
              "1         Shawn Williams    Cincinnati Bengals       SS 1991-05-13  3500000\n",
              "2            Adam Butler  New England Patriots       DT 1994-04-12   645000\n",
              "3            Derek Wolfe        Denver Broncos       DE 1990-02-24  8000000\n",
              "4              Jake Ryan  Jacksonville Jaguars      OLB 1992-02-27  1000000\n",
              "...                  ...                   ...      ...        ...      ...\n",
              "1650    Bashaud Breeland    Kansas City Chiefs       CB 1992-01-30   805000\n",
              "1651         Craig James   Philadelphia Eagles       CB 1996-04-29   570000\n",
              "1652  Jonotthan Harrison         New York Jets        C 1991-08-25  1500000\n",
              "1653         Chuma Edoga         New York Jets       OT 1997-05-25   495000\n",
              "1654        Tajae Sharpe      Tennessee Titans       WR 1994-12-23  2025000\n",
              "\n",
              "[1655 rows x 5 columns]"
            ]
          },
          "execution_count": 33,
          "metadata": {},
          "output_type": "execute_result"
        }
      ],
      "source": [
        "nfl # 주피터 노트북의 Display 기능"
      ]
    },
    {
      "cell_type": "code",
      "execution_count": 34,
      "metadata": {},
      "outputs": [
        {
          "name": "stdout",
          "output_type": "stream",
          "text": [
            "                    Name                  Team Position   Birthday   Salary\n",
            "0           Tremon Smith   Philadelphia Eagles       RB 1996-07-20   570000\n",
            "1         Shawn Williams    Cincinnati Bengals       SS 1991-05-13  3500000\n",
            "2            Adam Butler  New England Patriots       DT 1994-04-12   645000\n",
            "3            Derek Wolfe        Denver Broncos       DE 1990-02-24  8000000\n",
            "4              Jake Ryan  Jacksonville Jaguars      OLB 1992-02-27  1000000\n",
            "...                  ...                   ...      ...        ...      ...\n",
            "1650    Bashaud Breeland    Kansas City Chiefs       CB 1992-01-30   805000\n",
            "1651         Craig James   Philadelphia Eagles       CB 1996-04-29   570000\n",
            "1652  Jonotthan Harrison         New York Jets        C 1991-08-25  1500000\n",
            "1653         Chuma Edoga         New York Jets       OT 1997-05-25   495000\n",
            "1654        Tajae Sharpe      Tennessee Titans       WR 1994-12-23  2025000\n",
            "\n",
            "[1655 rows x 5 columns]\n"
          ]
        }
      ],
      "source": [
        "print(nfl) # print 함수를 사용하면 정교화된 데이터프레임이 아닌 텍스트로 출력됨"
      ]
    },
    {
      "cell_type": "code",
      "execution_count": 35,
      "metadata": {},
      "outputs": [
        {
          "name": "stdout",
          "output_type": "stream",
          "text": [
            "<class 'pandas.core.frame.DataFrame'>\n",
            "RangeIndex: 1655 entries, 0 to 1654\n",
            "Data columns (total 5 columns):\n",
            " #   Column    Non-Null Count  Dtype         \n",
            "---  ------    --------------  -----         \n",
            " 0   Name      1655 non-null   object        \n",
            " 1   Team      1655 non-null   object        \n",
            " 2   Position  1655 non-null   object        \n",
            " 3   Birthday  1655 non-null   datetime64[ns]\n",
            " 4   Salary    1655 non-null   int64         \n",
            "dtypes: datetime64[ns](1), int64(1), object(3)\n",
            "memory usage: 64.8+ KB\n"
          ]
        }
      ],
      "source": [
        "nfl.info() # 데이터프레임의 정보를 출력"
      ]
    },
    {
      "cell_type": "code",
      "execution_count": 36,
      "metadata": {},
      "outputs": [
        {
          "data": {
            "text/html": [
              "<div>\n",
              "<style scoped>\n",
              "    .dataframe tbody tr th:only-of-type {\n",
              "        vertical-align: middle;\n",
              "    }\n",
              "\n",
              "    .dataframe tbody tr th {\n",
              "        vertical-align: top;\n",
              "    }\n",
              "\n",
              "    .dataframe thead th {\n",
              "        text-align: right;\n",
              "    }\n",
              "</style>\n",
              "<table border=\"1\" class=\"dataframe\">\n",
              "  <thead>\n",
              "    <tr style=\"text-align: right;\">\n",
              "      <th></th>\n",
              "      <th>Birthday</th>\n",
              "      <th>Salary</th>\n",
              "    </tr>\n",
              "  </thead>\n",
              "  <tbody>\n",
              "    <tr>\n",
              "      <th>count</th>\n",
              "      <td>1655</td>\n",
              "      <td>1.655000e+03</td>\n",
              "    </tr>\n",
              "    <tr>\n",
              "      <th>mean</th>\n",
              "      <td>1993-04-13 16:24:04.350453120</td>\n",
              "      <td>1.861569e+06</td>\n",
              "    </tr>\n",
              "    <tr>\n",
              "      <th>min</th>\n",
              "      <td>1977-08-03 00:00:00</td>\n",
              "      <td>3.780000e+05</td>\n",
              "    </tr>\n",
              "    <tr>\n",
              "      <th>25%</th>\n",
              "      <td>1991-06-11 12:00:00</td>\n",
              "      <td>5.700000e+05</td>\n",
              "    </tr>\n",
              "    <tr>\n",
              "      <th>50%</th>\n",
              "      <td>1993-12-05 00:00:00</td>\n",
              "      <td>8.000000e+05</td>\n",
              "    </tr>\n",
              "    <tr>\n",
              "      <th>75%</th>\n",
              "      <td>1995-09-11 12:00:00</td>\n",
              "      <td>1.839952e+06</td>\n",
              "    </tr>\n",
              "    <tr>\n",
              "      <th>max</th>\n",
              "      <td>1998-12-19 00:00:00</td>\n",
              "      <td>2.750000e+07</td>\n",
              "    </tr>\n",
              "    <tr>\n",
              "      <th>std</th>\n",
              "      <td>NaN</td>\n",
              "      <td>2.748519e+06</td>\n",
              "    </tr>\n",
              "  </tbody>\n",
              "</table>\n",
              "</div>"
            ],
            "text/plain": [
              "                            Birthday        Salary\n",
              "count                           1655  1.655000e+03\n",
              "mean   1993-04-13 16:24:04.350453120  1.861569e+06\n",
              "min              1977-08-03 00:00:00  3.780000e+05\n",
              "25%              1991-06-11 12:00:00  5.700000e+05\n",
              "50%              1993-12-05 00:00:00  8.000000e+05\n",
              "75%              1995-09-11 12:00:00  1.839952e+06\n",
              "max              1998-12-19 00:00:00  2.750000e+07\n",
              "std                              NaN  2.748519e+06"
            ]
          },
          "execution_count": 36,
          "metadata": {},
          "output_type": "execute_result"
        }
      ],
      "source": [
        "nfl.describe() # 통계적 요약(평균, 표준편차, 최소값, 최대값 등)"
      ]
    },
    {
      "cell_type": "code",
      "execution_count": 37,
      "metadata": {},
      "outputs": [
        {
          "data": {
            "text/html": [
              "<div>\n",
              "<style scoped>\n",
              "    .dataframe tbody tr th:only-of-type {\n",
              "        vertical-align: middle;\n",
              "    }\n",
              "\n",
              "    .dataframe tbody tr th {\n",
              "        vertical-align: top;\n",
              "    }\n",
              "\n",
              "    .dataframe thead th {\n",
              "        text-align: right;\n",
              "    }\n",
              "</style>\n",
              "<table border=\"1\" class=\"dataframe\">\n",
              "  <thead>\n",
              "    <tr style=\"text-align: right;\">\n",
              "      <th></th>\n",
              "      <th>Name</th>\n",
              "      <th>Team</th>\n",
              "      <th>Position</th>\n",
              "      <th>Birthday</th>\n",
              "      <th>Salary</th>\n",
              "    </tr>\n",
              "  </thead>\n",
              "  <tbody>\n",
              "    <tr>\n",
              "      <th>145</th>\n",
              "      <td>Eli Manning</td>\n",
              "      <td>New York Giants</td>\n",
              "      <td>QB</td>\n",
              "      <td>1981-01-03</td>\n",
              "      <td>11500000</td>\n",
              "    </tr>\n",
              "  </tbody>\n",
              "</table>\n",
              "</div>"
            ],
            "text/plain": [
              "            Name             Team Position   Birthday    Salary\n",
              "145  Eli Manning  New York Giants       QB 1981-01-03  11500000"
            ]
          },
          "execution_count": 37,
          "metadata": {},
          "output_type": "execute_result"
        }
      ],
      "source": [
        "nfl.sample() # 랜덤하게 1개의 데이터를 출력"
      ]
    },
    {
      "cell_type": "code",
      "execution_count": 38,
      "metadata": {},
      "outputs": [
        {
          "data": {
            "text/plain": [
              "Name               Team                  Position  Birthday    Salary \n",
              "Alexander Johnson  Denver Broncos        ILB       1991-12-24  570000     2\n",
              "Aaron Colvin       Washington Redskins   CB        1991-10-02  7500000    1\n",
              "Aaron Donald       Los Angeles Rams      DT        1991-05-23  9108000    1\n",
              "Will Fuller        Houston Texans        WR        1994-04-16  1836043    1\n",
              "Adrian Phillips    Los Angeles Chargers  SS        1990-01-06  1500000    1\n",
              "                                                                         ..\n",
              "Xavier Su'a-Filo   Dallas Cowboys        G         1991-01-01  805000     1\n",
              "Xavier Williams    Kansas City Chiefs    DT        1992-01-18  2257000    1\n",
              "Xavier Woods       Dallas Cowboys        FS        1995-07-26  645000     1\n",
              "Yannick Ngakoue    Jacksonville Jaguars  DE        1994-11-30  2025000    1\n",
              "Aaron Brewer       Arizona Cardinals     LS        1990-07-05  930000     1\n",
              "Name: count, Length: 1654, dtype: int64"
            ]
          },
          "execution_count": 38,
          "metadata": {},
          "output_type": "execute_result"
        }
      ],
      "source": [
        "nfl.value_counts() # value_counts() 함수는 데이터프레임의 각 열에 대해 고유한 값의 개수를 반환합니다."
      ]
    },
    {
      "cell_type": "code",
      "execution_count": 39,
      "metadata": {},
      "outputs": [
        {
          "data": {
            "text/html": [
              "<div>\n",
              "<style scoped>\n",
              "    .dataframe tbody tr th:only-of-type {\n",
              "        vertical-align: middle;\n",
              "    }\n",
              "\n",
              "    .dataframe tbody tr th {\n",
              "        vertical-align: top;\n",
              "    }\n",
              "\n",
              "    .dataframe thead th {\n",
              "        text-align: right;\n",
              "    }\n",
              "</style>\n",
              "<table border=\"1\" class=\"dataframe\">\n",
              "  <thead>\n",
              "    <tr style=\"text-align: right;\">\n",
              "      <th></th>\n",
              "      <th>Name</th>\n",
              "      <th>Team</th>\n",
              "      <th>Position</th>\n",
              "      <th>Birthday</th>\n",
              "      <th>Salary</th>\n",
              "    </tr>\n",
              "  </thead>\n",
              "  <tbody>\n",
              "    <tr>\n",
              "      <th>0</th>\n",
              "      <td>Tremon Smith</td>\n",
              "      <td>Philadelphia Eagles</td>\n",
              "      <td>RB</td>\n",
              "      <td>1996-07-20</td>\n",
              "      <td>570000</td>\n",
              "    </tr>\n",
              "    <tr>\n",
              "      <th>1</th>\n",
              "      <td>Shawn Williams</td>\n",
              "      <td>Cincinnati Bengals</td>\n",
              "      <td>SS</td>\n",
              "      <td>1991-05-13</td>\n",
              "      <td>3500000</td>\n",
              "    </tr>\n",
              "    <tr>\n",
              "      <th>2</th>\n",
              "      <td>Adam Butler</td>\n",
              "      <td>New England Patriots</td>\n",
              "      <td>DT</td>\n",
              "      <td>1994-04-12</td>\n",
              "      <td>645000</td>\n",
              "    </tr>\n",
              "    <tr>\n",
              "      <th>3</th>\n",
              "      <td>Derek Wolfe</td>\n",
              "      <td>Denver Broncos</td>\n",
              "      <td>DE</td>\n",
              "      <td>1990-02-24</td>\n",
              "      <td>8000000</td>\n",
              "    </tr>\n",
              "    <tr>\n",
              "      <th>4</th>\n",
              "      <td>Jake Ryan</td>\n",
              "      <td>Jacksonville Jaguars</td>\n",
              "      <td>OLB</td>\n",
              "      <td>1992-02-27</td>\n",
              "      <td>1000000</td>\n",
              "    </tr>\n",
              "  </tbody>\n",
              "</table>\n",
              "</div>"
            ],
            "text/plain": [
              "             Name                  Team Position   Birthday   Salary\n",
              "0    Tremon Smith   Philadelphia Eagles       RB 1996-07-20   570000\n",
              "1  Shawn Williams    Cincinnati Bengals       SS 1991-05-13  3500000\n",
              "2     Adam Butler  New England Patriots       DT 1994-04-12   645000\n",
              "3     Derek Wolfe        Denver Broncos       DE 1990-02-24  8000000\n",
              "4       Jake Ryan  Jacksonville Jaguars      OLB 1992-02-27  1000000"
            ]
          },
          "execution_count": 39,
          "metadata": {},
          "output_type": "execute_result"
        }
      ],
      "source": [
        "nfl.head()"
      ]
    },
    {
      "cell_type": "code",
      "execution_count": 40,
      "metadata": {
        "id": "wZq1IGvz5lPv"
      },
      "outputs": [
        {
          "data": {
            "text/html": [
              "<div>\n",
              "<style scoped>\n",
              "    .dataframe tbody tr th:only-of-type {\n",
              "        vertical-align: middle;\n",
              "    }\n",
              "\n",
              "    .dataframe tbody tr th {\n",
              "        vertical-align: top;\n",
              "    }\n",
              "\n",
              "    .dataframe thead th {\n",
              "        text-align: right;\n",
              "    }\n",
              "</style>\n",
              "<table border=\"1\" class=\"dataframe\">\n",
              "  <thead>\n",
              "    <tr style=\"text-align: right;\">\n",
              "      <th></th>\n",
              "      <th>Name</th>\n",
              "      <th>Team</th>\n",
              "      <th>Position</th>\n",
              "      <th>Birthday</th>\n",
              "      <th>Salary</th>\n",
              "    </tr>\n",
              "  </thead>\n",
              "  <tbody>\n",
              "    <tr>\n",
              "      <th>0</th>\n",
              "      <td>Tremon Smith</td>\n",
              "      <td>Philadelphia Eagles</td>\n",
              "      <td>RB</td>\n",
              "      <td>1996-07-20</td>\n",
              "      <td>570000</td>\n",
              "    </tr>\n",
              "    <tr>\n",
              "      <th>1</th>\n",
              "      <td>Shawn Williams</td>\n",
              "      <td>Cincinnati Bengals</td>\n",
              "      <td>SS</td>\n",
              "      <td>1991-05-13</td>\n",
              "      <td>3500000</td>\n",
              "    </tr>\n",
              "    <tr>\n",
              "      <th>2</th>\n",
              "      <td>Adam Butler</td>\n",
              "      <td>New England Patriots</td>\n",
              "      <td>DT</td>\n",
              "      <td>1994-04-12</td>\n",
              "      <td>645000</td>\n",
              "    </tr>\n",
              "    <tr>\n",
              "      <th>3</th>\n",
              "      <td>Derek Wolfe</td>\n",
              "      <td>Denver Broncos</td>\n",
              "      <td>DE</td>\n",
              "      <td>1990-02-24</td>\n",
              "      <td>8000000</td>\n",
              "    </tr>\n",
              "    <tr>\n",
              "      <th>4</th>\n",
              "      <td>Jake Ryan</td>\n",
              "      <td>Jacksonville Jaguars</td>\n",
              "      <td>OLB</td>\n",
              "      <td>1992-02-27</td>\n",
              "      <td>1000000</td>\n",
              "    </tr>\n",
              "  </tbody>\n",
              "</table>\n",
              "</div>"
            ],
            "text/plain": [
              "             Name                  Team Position   Birthday   Salary\n",
              "0    Tremon Smith   Philadelphia Eagles       RB 1996-07-20   570000\n",
              "1  Shawn Williams    Cincinnati Bengals       SS 1991-05-13  3500000\n",
              "2     Adam Butler  New England Patriots       DT 1994-04-12   645000\n",
              "3     Derek Wolfe        Denver Broncos       DE 1990-02-24  8000000\n",
              "4       Jake Ryan  Jacksonville Jaguars      OLB 1992-02-27  1000000"
            ]
          },
          "execution_count": 40,
          "metadata": {},
          "output_type": "execute_result"
        }
      ],
      "source": [
        "# 받아들인 데이터셋에서 선수의 이름을 인덱스 레이블로 설정하세요.\n",
        "nfl.reset_index(drop=True, inplace=True)\n",
        "nfl.head()"
      ]
    },
    {
      "cell_type": "code",
      "execution_count": 62,
      "metadata": {},
      "outputs": [
        {
          "data": {
            "text/plain": [
              "Team\n",
              "New York Jets           58\n",
              "Washington Redskins     56\n",
              "Kansas City Chiefs      56\n",
              "New Orleans Saints      55\n",
              "San Francisco 49Ers     55\n",
              "Denver Broncos          54\n",
              "Minnesota Vikings       54\n",
              "Los Angeles Chargers    54\n",
              "Atlanta Falcons         53\n",
              "Dallas Cowboys          53\n",
              "Seattle Seahawks        53\n",
              "Detroit Lions           53\n",
              "Buffalo Bills           53\n",
              "Chicago Bears           53\n",
              "Philadelphia Eagles     52\n",
              "New York Giants         52\n",
              "Los Angeles Rams        52\n",
              "Houston Texans          52\n",
              "Arizona Cardinals       51\n",
              "Oakland Raiders         51\n",
              "Cincinnati Bengals      51\n",
              "Green Bay Packers       51\n",
              "Jacksonville Jaguars    50\n",
              "New England Patriots    49\n",
              "Indianapolis Colts      49\n",
              "Carolina Panthers       49\n",
              "Cleveland Browns        49\n",
              "Miami Dolphins          49\n",
              "Baltimore Ravens        48\n",
              "Tampa Bay Buccaneers    47\n",
              "Pittsburgh Steelers     47\n",
              "Tennessee Titans        46\n",
              "Name: count, dtype: int64"
            ]
          },
          "execution_count": 62,
          "metadata": {},
          "output_type": "execute_result"
        }
      ],
      "source": [
        "# 이 데이터셋에서 팀 당 선수가 몇 명인지 구하세요\n",
        "nfl['Team'].value_counts()"
      ]
    },
    {
      "cell_type": "code",
      "execution_count": 42,
      "metadata": {
        "id": "heyj_mVH5lUt"
      },
      "outputs": [
        {
          "data": {
            "text/html": [
              "<div>\n",
              "<style scoped>\n",
              "    .dataframe tbody tr th:only-of-type {\n",
              "        vertical-align: middle;\n",
              "    }\n",
              "\n",
              "    .dataframe tbody tr th {\n",
              "        vertical-align: top;\n",
              "    }\n",
              "\n",
              "    .dataframe thead th {\n",
              "        text-align: right;\n",
              "    }\n",
              "</style>\n",
              "<table border=\"1\" class=\"dataframe\">\n",
              "  <thead>\n",
              "    <tr style=\"text-align: right;\">\n",
              "      <th></th>\n",
              "      <th>Name</th>\n",
              "      <th>Team</th>\n",
              "      <th>Position</th>\n",
              "      <th>Birthday</th>\n",
              "      <th>Salary</th>\n",
              "    </tr>\n",
              "  </thead>\n",
              "  <tbody>\n",
              "    <tr>\n",
              "      <th>180</th>\n",
              "      <td>Kirk Cousins</td>\n",
              "      <td>Minnesota Vikings</td>\n",
              "      <td>QB</td>\n",
              "      <td>1988-08-19</td>\n",
              "      <td>27500000</td>\n",
              "    </tr>\n",
              "    <tr>\n",
              "      <th>905</th>\n",
              "      <td>Marcus Mariota</td>\n",
              "      <td>Tennessee Titans</td>\n",
              "      <td>QB</td>\n",
              "      <td>1993-10-30</td>\n",
              "      <td>20922000</td>\n",
              "    </tr>\n",
              "    <tr>\n",
              "      <th>1623</th>\n",
              "      <td>Jameis Winston</td>\n",
              "      <td>Tampa Bay Buccaneers</td>\n",
              "      <td>QB</td>\n",
              "      <td>1994-01-06</td>\n",
              "      <td>20922000</td>\n",
              "    </tr>\n",
              "    <tr>\n",
              "      <th>1343</th>\n",
              "      <td>Derek Carr</td>\n",
              "      <td>Oakland Raiders</td>\n",
              "      <td>QB</td>\n",
              "      <td>1991-03-28</td>\n",
              "      <td>19900000</td>\n",
              "    </tr>\n",
              "    <tr>\n",
              "      <th>150</th>\n",
              "      <td>Jimmy Garoppolo</td>\n",
              "      <td>San Francisco 49Ers</td>\n",
              "      <td>QB</td>\n",
              "      <td>1991-11-02</td>\n",
              "      <td>17200000</td>\n",
              "    </tr>\n",
              "  </tbody>\n",
              "</table>\n",
              "</div>"
            ],
            "text/plain": [
              "                 Name                  Team Position   Birthday    Salary\n",
              "180      Kirk Cousins     Minnesota Vikings       QB 1988-08-19  27500000\n",
              "905    Marcus Mariota      Tennessee Titans       QB 1993-10-30  20922000\n",
              "1623   Jameis Winston  Tampa Bay Buccaneers       QB 1994-01-06  20922000\n",
              "1343       Derek Carr       Oakland Raiders       QB 1991-03-28  19900000\n",
              "150   Jimmy Garoppolo   San Francisco 49Ers       QB 1991-11-02  17200000"
            ]
          },
          "execution_count": 42,
          "metadata": {},
          "output_type": "execute_result"
        }
      ],
      "source": [
        "# 이 데이터셋에서 가장 높은 연봉을 받는 선수 5명을 구하세요\n",
        "nfl.sort_values(by='Salary', ascending=False).head(5)"
      ]
    },
    {
      "cell_type": "code",
      "execution_count": 49,
      "metadata": {
        "id": "3LCCbO-85lXM"
      },
      "outputs": [
        {
          "data": {
            "text/html": [
              "<div>\n",
              "<style scoped>\n",
              "    .dataframe tbody tr th:only-of-type {\n",
              "        vertical-align: middle;\n",
              "    }\n",
              "\n",
              "    .dataframe tbody tr th {\n",
              "        vertical-align: top;\n",
              "    }\n",
              "\n",
              "    .dataframe thead th {\n",
              "        text-align: right;\n",
              "    }\n",
              "</style>\n",
              "<table border=\"1\" class=\"dataframe\">\n",
              "  <thead>\n",
              "    <tr style=\"text-align: right;\">\n",
              "      <th></th>\n",
              "      <th>Name</th>\n",
              "      <th>Birthday</th>\n",
              "    </tr>\n",
              "  </thead>\n",
              "  <tbody>\n",
              "    <tr>\n",
              "      <th>217</th>\n",
              "      <td>Quinnen Williams</td>\n",
              "      <td>1997-12-21</td>\n",
              "    </tr>\n",
              "  </tbody>\n",
              "</table>\n",
              "</div>"
            ],
            "text/plain": [
              "                 Name   Birthday\n",
              "217  Quinnen Williams 1997-12-21"
            ]
          },
          "execution_count": 49,
          "metadata": {},
          "output_type": "execute_result"
        }
      ],
      "source": [
        "# New York Jets 팀에서 가장 나이가 어린 선수와 그 선수의 생일을 구하세요.\n",
        "nfl[nfl['Team']=='New York Jets'].sort_values(by='Birthday', ascending=False).head(1)[['Name', 'Birthday']] # []는 Pandas가 읽는 형식,\n",
        "# 그 안의 []는 Column을 의미"
      ]
    },
    {
      "cell_type": "code",
      "execution_count": 60,
      "metadata": {},
      "outputs": [
        {
          "data": {
            "text/html": [
              "<div>\n",
              "<style scoped>\n",
              "    .dataframe tbody tr th:only-of-type {\n",
              "        vertical-align: middle;\n",
              "    }\n",
              "\n",
              "    .dataframe tbody tr th {\n",
              "        vertical-align: top;\n",
              "    }\n",
              "\n",
              "    .dataframe thead th {\n",
              "        text-align: right;\n",
              "    }\n",
              "</style>\n",
              "<table border=\"1\" class=\"dataframe\">\n",
              "  <thead>\n",
              "    <tr style=\"text-align: right;\">\n",
              "      <th></th>\n",
              "      <th>Name</th>\n",
              "      <th>Birthday</th>\n",
              "      <th>Age</th>\n",
              "    </tr>\n",
              "  </thead>\n",
              "  <tbody>\n",
              "    <tr>\n",
              "      <th>217</th>\n",
              "      <td>Quinnen Williams</td>\n",
              "      <td>1997-12-21</td>\n",
              "      <td>26</td>\n",
              "    </tr>\n",
              "  </tbody>\n",
              "</table>\n",
              "</div>"
            ],
            "text/plain": [
              "                 Name   Birthday  Age\n",
              "217  Quinnen Williams 1997-12-21   26"
            ]
          },
          "execution_count": 60,
          "metadata": {},
          "output_type": "execute_result"
        }
      ],
      "source": [
        "import pandas as pd\n",
        "from datetime import datetime\n",
        "\n",
        "# 예시 데이터 로드 (실제 데이터셋에 맞게 조정 필요)\n",
        "# nfl = pd.read_csv('nfl_data.csv')\n",
        "\n",
        "# 현재 날짜 구하기\n",
        "current_date = datetime.now()\n",
        "\n",
        "# New York Jets 팀에서 가장 나이가 어린 선수 찾기\n",
        "youngest_player = nfl[nfl['Team'] == 'New York Jets'].sort_values(by='Birthday', ascending=False).head(1)\n",
        "\n",
        "# 선수의 생일을 datetime 객체로 변환\n",
        "youngest_player['Birthday'] = pd.to_datetime(youngest_player['Birthday'])\n",
        "\n",
        "# 연령 계산\n",
        "youngest_player['Age'] = current_date.year - youngest_player['Birthday'].dt.year\n",
        "if current_date.month < youngest_player['Birthday'].dt.month.iloc[0] or \\\n",
        "    (current_date.month <= youngest_player['Birthday'].dt.month.iloc[0]):\n",
        "    youngest_player['Age'] -= 1\n",
        "\n",
        "# 이름, 생일, 연령 출력\n",
        "youngest_player[['Name', 'Birthday', 'Age']]\n"
      ]
    },
    {
      "cell_type": "markdown",
      "metadata": {
        "id": "g2eDZdM97sq3"
      },
      "source": [
        "# [문제 2]\n",
        "\n",
        "## customers.csv 데이터셋에는 주소(Address) 열이 있습니다.\n",
        "## 각 주소는 도로，시，주 및 우편번호로 구성됩니다.\n"
      ]
    },
    {
      "cell_type": "code",
      "execution_count": null,
      "metadata": {
        "id": "cEMr31MO5lZY"
      },
      "outputs": [],
      "source": [
        "# 주소에서 위 네 가지 값을 분리하고 분리한 값을 각각\n",
        "# Street, City, State, Zip 이라는 새로운 열에 할당하세요\n",
        "# 변수 : customers\n"
      ]
    },
    {
      "cell_type": "code",
      "execution_count": null,
      "metadata": {
        "id": "heUdMUDI5lbr"
      },
      "outputs": [],
      "source": [
        "# 가장 아래에서부터 5개 행을 확인합니다.\n"
      ]
    },
    {
      "cell_type": "code",
      "execution_count": null,
      "metadata": {
        "id": "BMJ67pxQ5leB"
      },
      "outputs": [],
      "source": [
        "# Street 열의 4자리 숫자의 모든 항목을 * 표로 치환합니다.\n"
      ]
    },
    {
      "cell_type": "markdown",
      "metadata": {
        "id": "d_HmwglU-TFK"
      },
      "source": [
        "# [문제 3]\n",
        "\n",
        "## investments.csv 데이터셋은 웹사이트 크런치베이스에 수집한 27,000 개 이상의 스타트업 투자 기록을 담은 데이터셋.\n",
        "\n",
        "## 각 스타트업에는 이름(Name), 시장(Market), 상태 (Status), 운영하는 주(State)와 투자 라운드(Funding Rounds) 정보가 있습니다."
      ]
    },
    {
      "cell_type": "code",
      "execution_count": null,
      "metadata": {
        "id": "7SCAwHfm-K0S"
      },
      "outputs": [],
      "source": [
        "investments = pd.read_csv(\"investments.csv\")\n",
        "investments.head()"
      ]
    },
    {
      "cell_type": "code",
      "execution_count": null,
      "metadata": {
        "id": "kniHHBz9-4Bl"
      },
      "outputs": [],
      "source": [
        "# 각 열의 고유값 개수 식별\n",
        "investments.nunique()"
      ]
    },
    {
      "cell_type": "code",
      "execution_count": null,
      "metadata": {
        "id": "O0Pf0eke-4D3"
      },
      "outputs": [],
      "source": [
        "# 3레벨 MultiIndex 생성\n",
        "investments = investments.set_index(\n",
        "  keys = [\"Status\", \"Funding Rounds\", \"State\"]\n",
        ").sort_index()\n"
      ]
    },
    {
      "cell_type": "code",
      "execution_count": null,
      "metadata": {
        "id": "yAIBTx2Y-4GK"
      },
      "outputs": [],
      "source": [
        "# 확인\n",
        "investments.head()"
      ]
    },
    {
      "cell_type": "code",
      "execution_count": null,
      "metadata": {
        "id": "ZwwG1KCq_IiQ"
      },
      "outputs": [],
      "source": [
        "# Status가 ‘Closed’인 모든 행을 추출\n"
      ]
    },
    {
      "cell_type": "code",
      "execution_count": null,
      "metadata": {
        "id": "aq_1Q4Iy_If8"
      },
      "outputs": [],
      "source": [
        "# Status가 ‘Acquired’이고 Funding Rounds가 10인 모든 행을 추출\n"
      ]
    },
    {
      "cell_type": "code",
      "execution_count": null,
      "metadata": {
        "id": "TVW78rhA_Idt"
      },
      "outputs": [],
      "source": [
        "# Status가 ‘Operating’이고 Funding Rounds가 6이고 State가 ‘NJ’인 모든 행을 추출\n"
      ]
    },
    {
      "cell_type": "code",
      "execution_count": null,
      "metadata": {
        "id": "9T-cTCSY_IbX"
      },
      "outputs": [],
      "source": [
        "# Status가 ‘Closed’이고 Funding Rounds가 8인 모든 행을 추출하세요. 이때 Name 열만 추출\n"
      ]
    },
    {
      "cell_type": "code",
      "execution_count": null,
      "metadata": {
        "id": "IYgRajvR_IY9"
      },
      "outputs": [],
      "source": [
        "# Status나 Funding Rounds의 값과 상관없이 State가 ‘NJ’인 모든 행을 추출\n"
      ]
    },
    {
      "cell_type": "code",
      "execution_count": null,
      "metadata": {
        "id": "TBXtHvEE_IWk"
      },
      "outputs": [],
      "source": [
        "# Multilndex 레벨을 DataFrame에 열로 다시 통합\n"
      ]
    }
  ],
  "metadata": {
    "colab": {
      "provenance": []
    },
    "kernelspec": {
      "display_name": "Python 3",
      "name": "python3"
    },
    "language_info": {
      "codemirror_mode": {
        "name": "ipython",
        "version": 3
      },
      "file_extension": ".py",
      "mimetype": "text/x-python",
      "name": "python",
      "nbconvert_exporter": "python",
      "pygments_lexer": "ipython3",
      "version": "3.10.11"
    }
  },
  "nbformat": 4,
  "nbformat_minor": 0
}
