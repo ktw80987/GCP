{
 "cells": [
  {
   "cell_type": "code",
   "execution_count": 6,
   "metadata": {},
   "outputs": [],
   "source": [
    "# 분류에 대한 평가\n",
    "# 정확도, 정밀도, 재현율, F1 스코어, ROC AUC\n",
    "\n",
    "'''\n",
    "정확도 = 실제 데이터와 예측 데이터가 얼마나 같은지를 판단하는 지표\n",
    "혼동 행렬 공식 : (TP + TN) / (TP + TN + FP + FN)\n",
    "'''\n",
    "\n",
    "import numpy as np\n",
    "import pandas   as pd\n",
    "from sklearn.base import BaseEstimator"
   ]
  },
  {
   "cell_type": "code",
   "execution_count": 7,
   "metadata": {
    "notebookRunGroups": {
     "groupValue": "2"
    }
   },
   "outputs": [],
   "source": [
    "class MyDummyClassifier(BaseEstimator):\n",
    "    # fit( ) 메소드는 아무것도 학습하지 않음\n",
    "    def fit(self, X, y=None):\n",
    "        pass\n",
    "    \n",
    "    # titanic feature 중에서 Sex Feature가 1이면 0, 그렇지 않으면 1로 예측\n",
    "    def predict(self, X):\n",
    "        pred = np.zeros((X.shape[0], 1))\n",
    "        for i in range(X.shape[0]):\n",
    "            if X['Sex'].iloc[i] == 1:\n",
    "                pred[i] = 0\n",
    "            else:\n",
    "                pred[i] = 1\n",
    "            return pred"
   ]
  },
  {
   "cell_type": "code",
   "execution_count": 13,
   "metadata": {},
   "outputs": [
    {
     "name": "stdout",
     "output_type": "stream",
     "text": [
      "[[ 1  2  3  4  5]\n",
      " [ 6  7  8  9 10]]\n"
     ]
    }
   ],
   "source": [
    "a = np.arange(1,11).reshape(2,5)\n",
    "print(a)"
   ]
  },
  {
   "cell_type": "code",
   "execution_count": 14,
   "metadata": {},
   "outputs": [
    {
     "data": {
      "text/plain": [
       "'\\n    혼동행렬\\n    (0: Positive, 1: Negative)\\n\\n\\n        0    |   1   예측\\n             \\n    0   TP   |   FP\\n    --------------------\\n    1   FN   |   TN\\n\\n    실제\\n\\n\\n정밀도(Precision) 공식 : TP / (FP + TP)\\n재현율(Sensitivity) 공식 : TP / (FN + TP)\\n정밀도(Negative Predictive Value) 공식 : TN / (TN + FN)\\n특이도(Specificity) 공식 : TN / (TN + FP)\\n\\n'"
      ]
     },
     "execution_count": 14,
     "metadata": {},
     "output_type": "execute_result"
    }
   ],
   "source": [
    "'''\n",
    "        혼동행렬 (T:정답, F:오답)\n",
    "\n",
    "            P   |    N   예측\n",
    "                |\n",
    "        P   TP  |   FP\n",
    "        --------|----------\n",
    "        N   FN  |   TN\n",
    "                |\n",
    "                |\n",
    "        실제\n",
    "\n",
    "\n",
    "정밀도(Precision) 공식 : TP / (FP + TP)\n",
    "재현율(Sensitivity) 공식 : TP / (FN + TP)\n",
    "정밀도(Negative Predictive Value) 공식 : TN / (TN + FN)\n",
    "특이도(Specificity) 공식 : TN / (TN + FP)\n",
    "F1 스코어 공식 : 2 * (정밀도 * 재현율) / (정밀도 + 재현율)\n",
    "ROC 곡선 : FPR(False Positive Rate)이 변할 때 TPR(True Positive Rate)이 어떻게 변하는지 나타내는 곡선\n",
    "ROC AUC : ROC 곡선 밑의 면적\n",
    "'''"
   ]
  }
 ],
 "metadata": {
  "kernelspec": {
   "display_name": "AI",
   "language": "python",
   "name": "python3"
  },
  "language_info": {
   "codemirror_mode": {
    "name": "ipython",
    "version": 3
   },
   "file_extension": ".py",
   "mimetype": "text/x-python",
   "name": "python",
   "nbconvert_exporter": "python",
   "pygments_lexer": "ipython3",
   "version": "3.10.11"
  }
 },
 "nbformat": 4,
 "nbformat_minor": 2
}
